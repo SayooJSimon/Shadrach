{
 "cells": [
  {
   "cell_type": "code",
   "execution_count": 2,
   "id": "05dedafb",
   "metadata": {},
   "outputs": [
    {
     "name": "stdout",
     "output_type": "stream",
     "text": [
      "DatetimeIndex(['2023-01-10 00:00:00', '2023-01-10 00:01:00',\n",
      "               '2023-01-10 00:02:00', '2023-01-10 00:03:00',\n",
      "               '2023-01-10 00:04:00', '2023-01-10 00:05:00',\n",
      "               '2023-01-10 00:06:00', '2023-01-10 00:07:00',\n",
      "               '2023-01-10 00:08:00', '2023-01-10 00:09:00',\n",
      "               ...\n",
      "               '2023-10-29 23:51:00', '2023-10-29 23:52:00',\n",
      "               '2023-10-29 23:53:00', '2023-10-29 23:54:00',\n",
      "               '2023-10-29 23:55:00', '2023-10-29 23:56:00',\n",
      "               '2023-10-29 23:57:00', '2023-10-29 23:58:00',\n",
      "               '2023-10-29 23:59:00', '2023-10-30 00:00:00'],\n",
      "              dtype='datetime64[ns]', length=421921, freq='T')\n"
     ]
    }
   ],
   "source": [
    "import pandas as pd\n",
    "import datetime\n",
    "\n",
    "range_date = pd.date_range(start = '1/10/23', end = '30/10/23', freq = 'min')\n",
    "print(range_date)"
   ]
  },
  {
   "cell_type": "code",
   "execution_count": 10,
   "id": "a10a2838",
   "metadata": {},
   "outputs": [
    {
     "data": {
      "text/plain": [
       "['2023-01-10 00:01:00',\n",
       " '2023-01-10 00:02:00',\n",
       " '2023-01-10 00:03:00',\n",
       " '2023-01-10 00:04:00',\n",
       " '2023-01-10 00:05:00',\n",
       " '2023-01-10 00:06:00',\n",
       " '2023-01-10 00:07:00',\n",
       " '2023-01-10 00:08:00',\n",
       " '2023-01-10 00:09:00',\n",
       " '2023-01-10 00:10:00']"
      ]
     },
     "metadata": {},
     "output_type": "display_data"
    }
   ],
   "source": [
    "import pandas as pd\n",
    "import numpy as np\n",
    "import datetime\n",
    "\n",
    "range_date = pd.date_range(start = '1/10/23', end = '30/10/23', freq = 'min')\n",
    "df = pd.DataFrame(range_date, columns = ['date'])\n",
    "df['date'] = np.random.randint(0, 100, size = len(range_date))\n",
    "string = [str(x) for x in range_date]\n",
    "display(string[1:11])"
   ]
  }
 ],
 "metadata": {
  "kernelspec": {
   "display_name": "Python 3 (ipykernel)",
   "language": "python",
   "name": "python3"
  },
  "language_info": {
   "codemirror_mode": {
    "name": "ipython",
    "version": 3
   },
   "file_extension": ".py",
   "mimetype": "text/x-python",
   "name": "python",
   "nbconvert_exporter": "python",
   "pygments_lexer": "ipython3",
   "version": "3.11.5"
  }
 },
 "nbformat": 4,
 "nbformat_minor": 5
}
